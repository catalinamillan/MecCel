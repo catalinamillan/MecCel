{
 "cells": [
  {
   "cell_type": "code",
   "execution_count": 45,
   "metadata": {},
   "outputs": [],
   "source": [
    "from meccel import *\n",
    "%matplotlib nbagg"
   ]
  },
  {
   "cell_type": "markdown",
   "metadata": {},
   "source": [
    "## Jorge I. Zuluaga y Bayron Portilla"
   ]
  },
  {
   "cell_type": "markdown",
   "metadata": {},
   "source": [
    "# Herramientas de Mecánica Celeste"
   ]
  },
  {
   "cell_type": "markdown",
   "metadata": {},
   "source": [
    "# 3. Formalismo vectorial de la Mecánica Celeste"
   ]
  },
  {
   "cell_type": "markdown",
   "metadata": {},
   "source": [
    "En este capítulo desarrollaremos los elementos teóricos básicos y los resultados más importantes de la Mecánica Celeste obtenidos con el denominado *formalismo vectorial de la mecánica*.  En este formalismo la descripción del movimiento de los cuerpos sometidos a su mutua atracción gravitacional se hace partiendo de las fuerzas que intercambian y resolviendo analítica y numéricamente la ecuación de movimiento."
   ]
  },
  {
   "cell_type": "markdown",
   "metadata": {},
   "source": [
    "## 3.1. El problema de los N-cuerpos"
   ]
  },
  {
   "cell_type": "markdown",
   "metadata": {},
   "source": [
    "El problema de los N-cuerpos es uno de los más importantes problemas en la historia de la Física.  Podría considerarselo el primer problema serio de Física Teórica que se formuló en la historia.\n",
    "\n",
    "Cuando Newton desarrollo su teoría mecánica con el propósito de describir el movimiento de los cuerpos del Sistema Solar, era claro que en el sistema existían cuerpos que dominaban el movimiento de otros, sin verse significativamente afectados.  Por ejemplo el Sol *domina* el movimiento de la Tierra, Júpiter *domina* el movimiento de sus lunas y las partículas de sus anillos. \n",
    "\n",
    "Cuando un cuerpo *domina* el movimiento de muchos en un sistema, el problema de describir y predecir sus movimientos se hace relativamente trivial.  La fuerza que ejercé el cuerpo *central* sobre cada cuerpo es independiente de la posición de todos los demás y la solución al problema consiste simplemente en resolver la ecuación de movimiento de cada cuerpo.\n",
    "\n",
    "Pero rapidamente fue claro que el movimiento de los cuerpos del Sistema Solar era mucho más complejo que eso.  Prueba de ello es la Luna, cuyo movimiento se escapa rápidamente a los modelos simplificados que asumen que solamente la Tierra ejerce una fuerza sobre ella, mientras se mantiene en un movimiento simple alrededor del Sol.\n",
    "\n",
    "Cuando se admite en el problema que las fuerzas que ejercen entre sí los cuerpos deben tenerse en cuenta para la descripción correcta, emerge el denominado **problema de los N-cuerpos**.  \n",
    "\n",
    "Históricamente, el problema matemático de los N-cuerpos, puede formularse de la siguiente forma:\n",
    "\n",
    "> *\"Dado un sistema con un número arbitrario de partículas puntuales que se atráen mutuamente obedeciendo la ley de gravitación universal, cuyo estado cinemático (posiciones y velocidades) en un instante dado de tiempo, con respecto a un sistema de referencia inercial, son conocidas, y bajo la suposición de que ninguna de esas partículas colisiona, encontrar una representación de las coordenadas de cada partícula puntual como una serie de una variable dependiente del tiempo, de modo que la serie converga uniformemente.\"*"
   ]
  },
  {
   "cell_type": "markdown",
   "metadata": {},
   "source": [
    "Matemáticamente, en el formalismo vectorial de la Mecánica, el problema de los N-cuerpos puede formularse como la solución al conjunto de las ecuaciones de movimiento de todos los cuerpos:\n",
    "\n",
    "$$\n",
    "\\left\\{\\ddot{\\vec r_i}=\\frac{1}{m_i}\\sum_j \\vec F_{ji}\\right\\}_{N}\n",
    "$$"
   ]
  },
  {
   "cell_type": "markdown",
   "metadata": {},
   "source": [
    "Donde se ha asumido que ninguna fuerza externa actúa sobre el sistema y solo las fuerzas entre las partículas modifican sus movimientos.  \n",
    "\n",
    "La dificultad matemática más relevante del problema de los N-cuerpos, estriba en el hecho de que las fuerzas entre las \n",
    "partículas $\\vec F_{ji}$ dependen a su vez de las posiciones que cada una de ellas ocupa instántaneamente.  De este modo el conjunto de ecuaciones diferenciales que define el problema es altamente acoplado y en general no lineal."
   ]
  },
  {
   "cell_type": "markdown",
   "metadata": {},
   "source": [
    "Como mencionamos antes, asumimos que las fuerzas entre las partículas son únicamente gravitacionales, esto es, obedecen la ley de gravitación universal \n",
    "\n",
    "$$\n",
    "\\vec{F}_{ji} = -\\frac{Gm_i m_j}{|\\vec{r}_i - \\vec{r}_j |^3} (\\vec{r}_i - \\vec{r}_j)\n",
    "$$\n",
    "\n",
    "Es importante tener en cuenta aquí la dirección del vector relativo $\\vec{r}_{ji}=\\vec{r}_i - \\vec{r}_j$ tal y como se usará en esta ecuación (y que produce el signo menos en la expresión para la fuerza).  Este vector apunta en la dirección que va de la partícula que produce la fuerza (partícula $j$-esima) hacia la partícula que la experimenta (partícula $i$-esima)."
   ]
  },
  {
   "cell_type": "markdown",
   "metadata": {},
   "source": [
    "En términos explícitos, el problema de los N-cuerpos resulta de resolver el conjunto de ecuaciones de movimiento:\n",
    "\n",
    "$$\n",
    "\\left\\{\\ddot{\\vec r_i}= -\\sum_j \\frac{G m_j}{r_{ji}^3} \\vec{r}_{ji} \\right\\}_{N}\n",
    "$$"
   ]
  },
  {
   "cell_type": "markdown",
   "metadata": {},
   "source": [
    "### Unidades canónicas"
   ]
  },
  {
   "cell_type": "markdown",
   "metadata": {},
   "source": [
    "La fuerza gravitacional es la fuerza más débil del Universo.  Por esta razón el valor de la constante que determina su intensidad, $G$ es muy pequeño, mientras que las cantidades involucradas en la fuerza, masas $m_j$ y distancias entre cuerpos $r_{ij}$ pueden ser inmensas.  \n",
    "\n",
    "Con el propósito de evitar la combinación de cantidades muy grandes y muy pequeñas en las mismas ecuaciones, casi desde el principio del desarrollo de la mecánica celeste, se ha convenido utilizar un sistema de unidades en el cuál las cantidades implicadas en el problema tengan un tamaño similar y de orden 1.  ¿Pero es posible esto?.  \n",
    "\n",
    "Las dimensiones de la constante de gravitación universal $G$ son:\n",
    "\n",
    "$$\n",
    "[G] = \\frac{L^3}{M T^2}\n",
    "$$"
   ]
  },
  {
   "cell_type": "markdown",
   "metadata": {},
   "source": [
    "Es decir, esta constante combina los patrones fundamentales usados para medir las demás propiedades del sistema (masas, distancias y tiempos).  Como tal, la constante puede ser usada para definir el conjunto de unidades más apropiadas para los propósitos perseguidos aquí.\n",
    "\n",
    "Imaginemos que tenemos un conjunto de tres nuevas unidades, de nombre arbitrario, y que en unidades del SI tienen un valor (factor de conversión) que llamamos $U_L$, $U_M$ y $U_T$.  Así por ejemplo, en el Sistema Solar se define una unidad de longitud más apropiada para describir la posición y demás propiedades cinemáticas del sistema, la *Unidad Astronómica* (AU, por sus siglas en inglés).  Sabemos que 1 AU $=1.496\\times 10^{8}$ km.  Si usaramos esta como la unidad de longitud, el factor de conversións sería $U_L=1.496\\times 10^{11}$ m."
   ]
  },
  {
   "cell_type": "markdown",
   "metadata": {},
   "source": [
    "El primer propósito en nuestro problema será el de hacer que la constante de gravitación tenga un valor *pequeño*.  Arbitrariamente podríamos asignarle un valor de $1$, siempre y cuando usemos un sistema apropiado de unidades:\n",
    "\n",
    "$$\n",
    "G_C=1\n",
    "$$\n",
    "\n",
    "El subíndice $C$ hace referencia a que esta elección conduce a lo que se conoce en mecánica celeste como un *sistema de unidades canónico*.  Si utilizamos los factores de conversión para pasar de las unidades arbitrarias definidas a las unidades del sistema internacional, obtenemos la siguiente igualdad:\n",
    "\n",
    "$$\n",
    "1 \\frac{U_L^3}{U_M U_T^2} = G = 6.67308\\times 10^{-11} \\frac{{\\rm m}^3}{{\\rm kg}\\cdot{\\rm s}^2}\n",
    "$$"
   ]
  },
  {
   "cell_type": "markdown",
   "metadata": {},
   "source": [
    "De allí vemos que si escogemos armitrariamente el valor de al menos 2 de los factores de conversión (por ejemplo $U_L$ y $U_M$) el tercero (por ejemplo $U_T$) puede ser calculado.\n",
    "\n",
    "Volviendo al ejemplo anterior, si hacemos $U_L=1.496\\times 10^{11}$ m. y $U_M=1.98\\times 10^{30}$ kg, el factor de conversión de los tiempos será:\n",
    "\n",
    "\\begin{eqnarray}\n",
    "U_T & = & \\sqrt{\\frac{U_L^3}{G U_M}}\\\\\n",
    "\\end{eqnarray}"
   ]
  },
  {
   "cell_type": "code",
   "execution_count": 46,
   "metadata": {
    "scrolled": true
   },
   "outputs": [],
   "source": [
    "import numpy as np\n",
    "import matplotlib.pyplot as plt\n",
    "from mpl_toolkits.mplot3d import Axes3D\n",
    "from scipy.integrate import odeint\n",
    "import spiceypy as spy\n",
    "%matplotlib inline"
   ]
  },
  {
   "cell_type": "code",
   "execution_count": 47,
   "metadata": {},
   "outputs": [
    {
     "name": "stdout",
     "output_type": "stream",
     "text": [
      "('UT (s) = ', 5033865.755208481)\n",
      "('UT (h) = ', 1398.296043113467)\n",
      "('UT (d) = ', 58.26233512972779)\n",
      "('UT (a) = ', 0.15951358009507952)\n"
     ]
    }
   ],
   "source": [
    "G=6.67308e-11 \n",
    "UL=1.496e11\n",
    "UM=1.98e30\n",
    "\n",
    "UT=np.sqrt(UL**3/(G*UM))\n",
    "print(\"UT (s) = \",UT)\n",
    "print(\"UT (h) = \",UT/3600)\n",
    "print(\"UT (d) = \",UT/86400)\n",
    "print(\"UT (a) = \",UT/(365.25*86400))"
   ]
  },
  {
   "cell_type": "markdown",
   "metadata": {},
   "source": [
    "Es interesante anotar que el valor del factor de conversión de tiempo (unidad de tiempo) no es arbitrario.  En realidad es del mismo orden de magnitud del período de revolución de la Tierra (365.25 días).  Esta no es una casualidad, sino el resultado de que las escala de tiempo en un sistema en el que la masa que atrae tiene la masa del Sol y las separaciones típicas son como la separación entre la Tierra y el Sol, es similar a la duración del año."
   ]
  },
  {
   "cell_type": "markdown",
   "metadata": {},
   "source": [
    "Teniendo los valores de los patrones fundamentales de longitud, masa y tiempo, es posible encontrar los patrones de velocidad, aceleración, energía y momentum angular, que son fundamentales en el estudio de la dinámica del sistema.  \n",
    "\n",
    "En la elección hecha anteriormente, estos patrones son:"
   ]
  },
  {
   "cell_type": "code",
   "execution_count": 48,
   "metadata": {},
   "outputs": [
    {
     "name": "stdout",
     "output_type": "stream",
     "text": [
      "('UV (m/s):', 29718.710683774327)\n",
      "('UA (m/s^2):', 0.005903755111670335)\n",
      "('UE (J = kg m^2/s^2):', 1.7487394941176467e+39)\n"
     ]
    }
   ],
   "source": [
    "UV=UL/UT\n",
    "print(\"UV (m/s):\",UV)\n",
    "\n",
    "UA=UL/UT**2\n",
    "print(\"UA (m/s^2):\",UA)\n",
    "\n",
    "UE=UM*UL**2/UT**2\n",
    "print(\"UE (J = kg m^2/s^2):\",UE)"
   ]
  },
  {
   "cell_type": "markdown",
   "metadata": {},
   "source": [
    "Intente utilizar estas ideas para responder a esta pregunta: ¿cuáles es la unidad de longitud característica, de un sistema gravitacional, tal que teniendo como unidad de masa el Sol, las unidades de velocidad sean las mismas que la velocidad de la luz?"
   ]
  },
  {
   "cell_type": "markdown",
   "metadata": {},
   "source": [
    "### Notación"
   ]
  },
  {
   "cell_type": "markdown",
   "metadata": {},
   "source": [
    "A menudo cuando se cambian los sistemas de unidades en física (en electromagnetismo, física atómica, relatividad o física de partículas), la mayoría de las cantidades físicas siguen escribiéndose con los mismos símbolos, lo que puede conducir a confusiones muy grandes.  La mecánica celeste no es la excepción, excepto por una sola cantidad, cuya representación en unidades canónicas cambia.  Nos referimos a la masa de las partículas cuando aparece en el contexto de la fuerza gravitacional. \n",
    "\n",
    "Así mientras que en un sistema arbitrario de unidades escribiremos $G m$, dado que en el sistema canónico $G_C=1$, escribiremos este factor como $\\mu$.  En términos del sistema canónico de unidades, las ecuaciones de movimiento se pueden escribir como:\n",
    "\n",
    "$$\n",
    "\\left\\{\\ddot{\\vec r_i}= -\\sum_j \\frac{\\mu_j}{r_{ij}^3} \\vec{r}_{ij} \\right\\}_{N}\n",
    "$$"
   ]
  },
  {
   "cell_type": "markdown",
   "metadata": {},
   "source": [
    "### 3.1.1. Solución numérica"
   ]
  },
  {
   "cell_type": "markdown",
   "metadata": {},
   "source": [
    "En el tiempo de Newton y sus contemporáneos, la solución a los problemas debía obtenerse en términos de funciones o series (*solución analítica*).  En tiempos más recientes y con el advenimiento de los computadores, la solución a algunos problemas de la física teórica e incluso de las matemáticas, ha sido posible mediante el uso de métodos numéricos (aproximados).\n",
    "\n",
    "Si bien la solución a un problema usando estos métodos carece del valor general que reconocemos en las soluciones *analíticas*, esta aproximación es reconocida en el presente como una alternativa igualmente poderosa para entender los sistemas físicos y eventualmente descubrir regularidades subyacentes."
   ]
  },
  {
   "cell_type": "markdown",
   "metadata": {},
   "source": [
    "En el capítulo anterior vimos que la ecuación de movimiento de una partícula puede escribirse como un conjunto de 6 ecuaciones diferenciales de primer orden.  En el caso del problema de los N-cuerpos, las ecuaciones de movimiento se escriben como un sistema de $6N$ ecuaciones lineales de la forma:\n",
    "\n",
    "$$\n",
    "\\left\\{\n",
    "\\begin{array}{ccc}\n",
    "\\dot y_i & = & y_{3N+i-1}\\;{\\rm ,}\\;i< 3N \\\\\n",
    "\\dot y_i & = & -\\sum \\frac{\\mu_j}{r_{ji}} \\vec{r_{ji}}\\;{\\rm ,}\\;i\\geq 3N \n",
    "\\end{array}\n",
    "\\right\\}_{3N}\n",
    "$$\n",
    "\n",
    "Donde $\\vec{r_i}:(y_{3i},y_{3i+1},y_{3i+2})$, y los índices $i$ y $j$ se asumen comenzando en 0."
   ]
  },
  {
   "cell_type": "markdown",
   "metadata": {},
   "source": [
    "Estas ecuaciones se pueden escribir en Python como:"
   ]
  },
  {
   "cell_type": "code",
   "execution_count": 49,
   "metadata": {},
   "outputs": [],
   "source": [
    "def EoM_Nbody(y,t,masas):\n",
    "    M=len(y);N=int(M/6)\n",
    "    \n",
    "    #Vector de estado\n",
    "    r=np.zeros((N,3))\n",
    "    v=np.zeros((N,3))\n",
    "    \n",
    "    #Vectores nulo con las derivadas \n",
    "    drdt=np.zeros((N,3))\n",
    "    dvdt=np.zeros((N,3))    \n",
    "    \n",
    "    #Asignación de los vectores de estado\n",
    "    for i in range(N):\n",
    "        r[i]=y[3*i:3*i+3];\n",
    "        v[i]=y[3*N+3*i:3*N+3*i+3]\n",
    "\n",
    "    # Ecuaciones de movimiento\n",
    "    for i in range(N):\n",
    "        drdt[i]=v[i]\n",
    "        for j in range(N):\n",
    "            if i==j:continue\n",
    "            dvdt[i]+=-masas[j]/spy.vnorm(r[i]-r[j])**3*(r[i]-r[j])\n",
    "\n",
    "    # Devuelve derivadas\n",
    "    dydt=np.array([])\n",
    "    for i in range(N):dydt=np.concatenate((dydt,drdt[i]))\n",
    "    for i in range(N):dydt=np.concatenate((dydt,dvdt[i]))\n",
    "    return dydt"
   ]
  },
  {
   "cell_type": "markdown",
   "metadata": {},
   "source": [
    "Para definir las condiciones iniciales podemos crear un diccionario, que nos permitirá gestionar mejor la información sobre el sistema:"
   ]
  },
  {
   "cell_type": "code",
   "execution_count": 50,
   "metadata": {},
   "outputs": [],
   "source": [
    "sistema=dict(\n",
    "    particula1=dict(\n",
    "        m=1.0,\n",
    "        r=[1,0,0],\n",
    "        v=[0,0.5,0]),\n",
    "    particula2=dict(\n",
    "        m=1.0,\n",
    "        r=[-1,0,0],\n",
    "        v=[0,-0.5,0.5],\n",
    "    ),\n",
    "    particula3=dict(\n",
    "        m=1.0,\n",
    "        r=[0,1,0],\n",
    "        v=[0,0,1]\n",
    "    )\n",
    ")"
   ]
  },
  {
   "cell_type": "markdown",
   "metadata": {},
   "source": [
    "Necesitamos sin embargo una rutina capaz de convertir este diccionario en la información que se le pasa al sistema de ecuaciones diferenciales.  Para ello definiremos esta rutina:"
   ]
  },
  {
   "cell_type": "code",
   "execution_count": 51,
   "metadata": {},
   "outputs": [],
   "source": [
    "def sis2ini(sistema):\n",
    "    # Prepara el Sistema de Partículas\n",
    "    masas=[]\n",
    "    rs=[];vs=[];ys=[]\n",
    "    for i in sistema.keys():\n",
    "        particula=sistema[i]\n",
    "        if particula['m']>0:\n",
    "            masas+=[particula['m']]\n",
    "            rs+=particula['r'];vs+=particula['v']\n",
    "    ys=rs+vs\n",
    "    M=len(ys)\n",
    "    N=int(M/6)\n",
    "    return ys,masas,N"
   ]
  },
  {
   "cell_type": "markdown",
   "metadata": {},
   "source": [
    "Ahora podemos resolver el sistema de ecuaciones como:"
   ]
  },
  {
   "cell_type": "code",
   "execution_count": 52,
   "metadata": {},
   "outputs": [],
   "source": [
    "y,masas,N=sis2ini(sistema)\n",
    "T=10.0\n",
    "Nt=100.0\n",
    "solucion=odeint(EoM_Nbody,y,np.linspace(0,T,Nt),args=(masas,))"
   ]
  },
  {
   "cell_type": "markdown",
   "metadata": {},
   "source": [
    "La extracción de la solución no es simple.  La matriz resultante tiene $6N\\times N_t$ elementos, incluyendo posiciones y velocidades.  La siguiente rutina será útil con ese propósito:"
   ]
  },
  {
   "cell_type": "code",
   "execution_count": 53,
   "metadata": {},
   "outputs": [],
   "source": [
    "def sol2pos(solucion):\n",
    "    Nt=int(solucion.shape[0])\n",
    "    N=int(solucion.shape[1]/6)\n",
    "    rs=np.zeros((N,Nt,3))\n",
    "    vs=np.zeros((N,Nt,3))\n",
    "    for i in range(N):\n",
    "        n=3*i\n",
    "        rs[i]=solucion[:,n:n+3]\n",
    "        m=3*N+3*i\n",
    "        vs[i]=solucion[:,m:m+3]\n",
    "    return rs,vs"
   ]
  },
  {
   "cell_type": "markdown",
   "metadata": {},
   "source": [
    "Debemos tener en cuenta que los objetos ``rs`` y ``vs`` son hipercubos con dimensiones $N\\times N_t\\times 3$.  Así, ``rs[0]`` es una matriz con las posiciones de la $n$-esima partícula en cualquier tiempo y ``rs[0][0]`` corresponde a  la posición inicial de la partícula 0."
   ]
  },
  {
   "cell_type": "markdown",
   "metadata": {},
   "source": [
    "Combinando los elementos anteriores se puede escribir un código relativamente legible para la integración de las ecuaciones de movimiento de un sistema de N-partículas:"
   ]
  },
  {
   "cell_type": "code",
   "execution_count": 54,
   "metadata": {},
   "outputs": [],
   "source": [
    "#Condiciones iniciales\n",
    "T=10.0\n",
    "Nt=1000.0\n",
    "sistema=dict(\n",
    "    particula1=dict(\n",
    "        m=1.0,\n",
    "        r=[0.0,0.0,0.0],\n",
    "        v=[0.0,0.0,0.0]),\n",
    "    particula2=dict(\n",
    "        m=0.01,\n",
    "        r=[1.0,0.0,0.0],\n",
    "        v=[0.0,1.0,0.0],\n",
    "    ),\n",
    "    particula3=dict(\n",
    "        m=0.001,\n",
    "        r=[0.88,0.0,0.0],\n",
    "        v=[0.0,0.88,0.0],\n",
    "    )\n",
    ")\n",
    "#Preparación de la solución\n",
    "y,masas,N=sis2ini(sistema)\n",
    "#Solución\n",
    "solucion=odeint(EoM_Nbody,y,np.linspace(0,T,Nt),args=(masas,))\n",
    "#Extracción de la solución\n",
    "rs,vs=sol2pos(solucion)"
   ]
  },
  {
   "cell_type": "markdown",
   "metadata": {},
   "source": [
    "Ahora podemos graficar la solución en 2 dimensiones:"
   ]
  },
  {
   "cell_type": "code",
   "execution_count": 55,
   "metadata": {},
   "outputs": [
    {
     "data": {
      "text/plain": [
       "(-1.0191547952462618, 1.0191547952462618)"
      ]
     },
     "execution_count": 55,
     "metadata": {},
     "output_type": "execute_result"
    },
    {
     "data": {
      "image/png": "[encoded data removed]",
      "text/plain": [
       "<Figure size 432x288 with 1 Axes>"
      ]
     },
     "metadata": {
      "needs_background": "light"
     },
     "output_type": "display_data"
    }
   ],
   "source": [
    "fig2d = plt.figure()\n",
    "ax2d=fig2d.gca()\n",
    "\n",
    "for i in range(N):\n",
    "    # Grafica en 2D\n",
    "    line,=ax2d.plot(rs[i,0,0],rs[i,0,1],'o',markersize=5,markeredgecolor='none')\n",
    "    color=line.get_color()\n",
    "    ax2d.plot(rs[i,:,0],rs[i,:,1],color=color)\n",
    "        \n",
    "ext=np.abs(rs[:,:,:2]).max()\n",
    "ax2d.set_xlim(-ext,ext)\n",
    "ax2d.set_ylim(-ext,ext)"
   ]
  },
  {
   "cell_type": "markdown",
   "metadata": {},
   "source": [
    "Ahora podemos graficar la solución en 3 dimensiones:"
   ]
  },
  {
   "cell_type": "code",
   "execution_count": 56,
   "metadata": {},
   "outputs": [
    {
     "data": {
      "text/plain": [
       "(-1.0191547952462618, 1.0191547952462618)"
      ]
     },
     "execution_count": 56,
     "metadata": {},
     "output_type": "execute_result"
    },
    {
     "data": {
      "image/png": "[encoded data removed]",
      "text/plain": [
       "<Figure size 432x288 with 1 Axes>"
      ]
     },
     "metadata": {
      "needs_background": "light"
     },
     "output_type": "display_data"
    }
   ],
   "source": [
    "# Graficar en 3D\n",
    "fig3d = plt.figure()\n",
    "ax3d=Axes3D(fig3d)\n",
    "\n",
    "for i in range(N):\n",
    "    line,=ax3d.plot(rs[i,:,0],rs[i,:,1],rs[i,:,2])\n",
    "    color=line.get_color()\n",
    "        \n",
    "ax3d.view_init(elev=30,azim=80)\n",
    "\n",
    "ext=ext=np.abs(rs).max()\n",
    "ax3d.set_xlim(-ext,ext)\n",
    "ax3d.set_ylim(-ext,ext)\n",
    "ax3d.set_zlim(-ext,ext)"
   ]
  },
  {
   "cell_type": "markdown",
   "metadata": {},
   "source": [
    "### 3.1.2 Coreografías"
   ]
  },
  {
   "cell_type": "markdown",
   "metadata": {},
   "source": [
    "Antes de intentar resolver el problema de los N-cuerpos, o mejor, de intentar ganar algún entendimiento básico del \n",
    "mismo usando métodos analíticos, es interesante mencionar una familia de soluciones al problema en las que dadas unas condiciones iniciales muy específicas, la solución se hace increíblemente simple.\n",
    "\n",
    "Considerese por ejemplo el caso de 3 partículas de masa idéntica que se encuentran sobre los vértices de un triángulo equilatero.  ¿Qué sucede si las partículas se sueltan desde el reposo?.  Dada la simetría del problema, las fuerzas sobre cada partícula actuarán a lo largo de las mediatrices del tríangulo, y por la identidad de las masas, lo que pase a una partícula le pasará exactamente a las demás.  En esta situación y sin resolver rigurosamente las ecuaciones de movimiento sabemos que las partículas se moverán en línea recta a lo largo de las mediatrices hasta encontrarse en el centro del triángulo.\n",
    "\n",
    "<center>\n",
    "<figure>\n",
    "    <img src=\"imagenes/coreofrafia-trivial.png\" width=\"60%\">\n",
    "    <figcaption>*La coreografía más simple con un sistema de 3 cuerpos*</figcaption>\n",
    "</figure>\n",
    "</center>"
   ]
  },
  {
   "cell_type": "markdown",
   "metadata": {},
   "source": [
    "Esta sencilla solución podría generalizarse al caso de un sistema con un polígono regular de N-lados.  Sin embargo, esta solución trivial no satisface una de las condiciones importantes del problema de los N-cuerpos: que las partículas no colisionan.  ¿Cómo construir un sistema con simetrías similares pero garantizando que las partículas no colisionen?\n",
    "\n",
    "Una posible solución puede obtenerse si poniendo las partículas en la misma configuración del triángulo equilatero, las dotamos de una rapidez idéntica, dirigida en un ángulo $\\gamma$ respecto a la línea perpendicular al radio del triángulo (ver figura abajo). \n",
    "\n",
    "<center>\n",
    "<figure>\n",
    "    <img src=\"imagenes/soluciones-equilibrio-relativo.png\" width=\"40%\">\n",
    "    <figcaption>*Configuración de una solución de equilibrio relativo con 3 cuerpos*</figcaption>\n",
    "</figure>\n",
    "</center>\n",
    "\n",
    "Supongamos que el Triángulo tiene el siguiente *radio* y la rapidez $v$ de las partículas, así como el ángulo que forman respecto a la línea perpendicular al radio $\\gamma$ es:"
   ]
  },
  {
   "cell_type": "code",
   "execution_count": 57,
   "metadata": {},
   "outputs": [],
   "source": [
    "R=1.0\n",
    "v=0.5\n",
    "gama=10.0*GRADOS"
   ]
  },
  {
   "cell_type": "markdown",
   "metadata": {},
   "source": [
    "Las siguientes condiciones iniciales satisfacen la configuración mencionada:"
   ]
  },
  {
   "cell_type": "code",
   "execution_count": 58,
   "metadata": {},
   "outputs": [],
   "source": [
    "sistema=dict(\n",
    "    particula1=dict(\n",
    "        m=1.0,\n",
    "        r=[0.0,R,0.0],\n",
    "        v=[-v*np.cos(gama),+v*np.sin(gama),0.0]),\n",
    "    particula2=dict(\n",
    "        m=1.0,\n",
    "        r=[-R*np.cos(30*GRADOS)+0.01,-R*np.sin(30*GRADOS),0.0],\n",
    "        v=[+v*np.cos(60*GRADOS+gama),-v*np.sin(60*GRADOS+gama),0.0],\n",
    "    ),\n",
    "    particula3=dict(\n",
    "        m=1.0,\n",
    "        r=[+R*np.cos(30*GRADOS),-R*np.sin(30*GRADOS),0.0],\n",
    "        v=[+v*np.cos(60*GRADOS-gama),+v*np.sin(60*GRADOS-gama),0.0],\n",
    "    )\n",
    ")"
   ]
  },
  {
   "cell_type": "markdown",
   "metadata": {},
   "source": [
    "La solución al movimiento del sistema será:"
   ]
  },
  {
   "cell_type": "code",
   "execution_count": 59,
   "metadata": {},
   "outputs": [],
   "source": [
    "tini=0.0\n",
    "tend=10.0\n",
    "Nt=300\n",
    "rs,vs,masas,N=solucionNbody(sistema,tini,tend,Nt)"
   ]
  },
  {
   "cell_type": "markdown",
   "metadata": {},
   "source": [
    "Veámos como se ve la solución animada:"
   ]
  },
  {
   "cell_type": "code",
   "execution_count": 60,
   "metadata": {},
   "outputs": [
    {
     "data": {
      "image/png": "[encoded data removed]",
      "text/plain": [
       "<Figure size 432x432 with 1 Axes>"
      ]
     },
     "metadata": {
      "needs_background": "light"
     },
     "output_type": "display_data"
    }
   ],
   "source": [
    "fig,ax=plt.subplots(1,1,figsize=(6,6))\n",
    "\n",
    "lines=[]\n",
    "for i in range(N):\n",
    "    line,=ax.plot(rs[i,0,0],rs[i,0,1],'o',ms=3)\n",
    "    lines+=[line]\n",
    "    \n",
    "vmax=np.abs(rs[:,:,0:2]).max()\n",
    "ax.set_xlim((-1.2*vmax,1.2*vmax))\n",
    "ax.set_ylim((-1.2*vmax,1.2*vmax))\n",
    "ax.grid()\n",
    "\n",
    "def animacion(n):\n",
    "    for i in range(N):lines[i].set_data(rs[i,:n,0],rs[i,:n,1])\n",
    "    return lines\n",
    "\n",
    "anim=animation.FuncAnimation(fig,animacion,frames=Nt,interval=50,blit=True,repeat=True)"
   ]
  },
  {
   "cell_type": "markdown",
   "metadata": {},
   "source": [
    "A este tipo de configuraciones se las conoce como *soluciones de equilibrio relativo* y forman una familia infinita de soluciones al problema de los 3-cuerpos.\n",
    "\n",
    "Estas soluciones pueden generalizarse fácilmente a sistemas de N partículas idénticas.\n",
    "\n",
    "Muchos autores han buscado configuraciones similares a la anterior, en las cuales las partículas mantienen a lo largo del tiempo una trayectoria estable y una configuración relativa sencilla de predecir.  Un número muy grande de ellas ha sido encontrado y forman las que se conocen como **coreografías del sistema de N-cuerpos**.\n",
    "\n",
    "Una reconocida coreografía se produce cuando se colocan 3 partículas en la siguiente configuración:"
   ]
  },
  {
   "cell_type": "code",
   "execution_count": 61,
   "metadata": {},
   "outputs": [],
   "source": [
    "#Condiciones en Simó (1993)\n",
    "x3=0.0\n",
    "dx3=0.695804\n",
    "y3=0.0\n",
    "dy3=1.067860\n",
    "\n",
    "x1=0.995492\n",
    "dx1=-dx3/2\n",
    "y1=0.0\n",
    "dy1=-dy3/2\n",
    "\n",
    "x2=-x1\n",
    "dx2=dx1\n",
    "y2=-y1\n",
    "dy2=dy1\n",
    "\n",
    "#Sistema\n",
    "sistema=dict(\n",
    "    particula1=dict(\n",
    "        m=1.0,\n",
    "        r=[x1,y1,0.0],\n",
    "        v=[dx1,dy1,0.0]),\n",
    "    particula2=dict(\n",
    "        m=1.0,\n",
    "        r=[x2,y2,0.0],\n",
    "        v=[dx2,dy2,0.0],\n",
    "    ),\n",
    "    particula3=dict(\n",
    "        m=1.0,\n",
    "        r=[x3,y3,0.0],\n",
    "        v=[dx3,dy3,0.0],\n",
    "    )\n",
    ")\n",
    "\n",
    "tini=0.0\n",
    "tend=10.0\n",
    "Nt=300\n",
    "rs,vs,masas,N=solucionNbody(sistema,tini,tend,Nt)"
   ]
  },
  {
   "cell_type": "markdown",
   "metadata": {},
   "source": [
    "Animada, resulta:"
   ]
  },
  {
   "cell_type": "code",
   "execution_count": 62,
   "metadata": {},
   "outputs": [
    {
     "data": {
      "image/png": "[encoded data removed]",
      "text/plain": [
       "<Figure size 432x432 with 1 Axes>"
      ]
     },
     "metadata": {
      "needs_background": "light"
     },
     "output_type": "display_data"
    }
   ],
   "source": [
    "fig,ax=plt.subplots(1,1,figsize=(6,6))\n",
    "\n",
    "lines=[]\n",
    "for i in range(N):\n",
    "    line,=ax.plot(rs[i,0,0],rs[i,0,1],'ko',ms=5)\n",
    "    lines+=[line]\n",
    "    \n",
    "vmax=np.abs(rs[:,:,0:2]).max()\n",
    "ax.set_xlim((-1.2*vmax,1.2*vmax))\n",
    "ax.set_ylim((-1.2*vmax,1.2*vmax))\n",
    "ax.grid()\n",
    "\n",
    "def animacion(n):\n",
    "    for i in range(N):lines[i].set_data(rs[i,n,0],rs[i,n,1])\n",
    "    return lines\n",
    "\n",
    "animacion(200)\n",
    "anim=animation.FuncAnimation(fig,animacion,frames=Nt,interval=50,blit=True,repeat=True)"
   ]
  },
  {
   "cell_type": "markdown",
   "metadata": {},
   "source": [
    "Se reta al estudiante a construir una animación con la coreografía de 4 y 5 cuerpos que se encuentra en el artículo [New Families of Solutions in N-Body Problems](documentos/simo-CoreographiesNBodyProblem.pdf) de Carles Simó."
   ]
  },
  {
   "cell_type": "code",
   "execution_count": null,
   "metadata": {},
   "outputs": [],
   "source": []
  }
 ],
 "metadata": {
  "kernelspec": {
   "display_name": "Python 3",
   "language": "python",
   "name": "python3"
  },
  "language_info": {
   "codemirror_mode": {
    "name": "ipython",
    "version": 2
   },
   "file_extension": ".py",
   "mimetype": "text/x-python",
   "name": "python",
   "nbconvert_exporter": "python",
   "pygments_lexer": "ipython2",
   "version": "2.7.15+"
  }
 },
 "nbformat": 4,
 "nbformat_minor": 2
}
