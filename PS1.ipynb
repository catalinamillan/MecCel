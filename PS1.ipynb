{
 "cells": [
  {
   "cell_type": "code",
   "execution_count": 3,
   "metadata": {},
   "outputs": [
    {
     "ename": "ImportError",
     "evalue": "No module named 'meccel'",
     "output_type": "error",
     "traceback": [
      "\u001b[0;31m---------------------------------------------------------------------------\u001b[0m",
      "\u001b[0;31mImportError\u001b[0m                               Traceback (most recent call last)",
      "\u001b[0;32m<ipython-input-3-51d2f0397c59>\u001b[0m in \u001b[0;36m<module>\u001b[0;34m\u001b[0m\n\u001b[0;32m----> 1\u001b[0;31m \u001b[0;32mfrom\u001b[0m \u001b[0mmeccel\u001b[0m \u001b[0;32mimport\u001b[0m \u001b[0;34m*\u001b[0m\u001b[0;34m\u001b[0m\u001b[0m\n\u001b[0m\u001b[1;32m      2\u001b[0m \u001b[0;32mimport\u001b[0m \u001b[0mnumpy\u001b[0m\u001b[0;34m\u001b[0m\u001b[0m\n\u001b[1;32m      3\u001b[0m \u001b[0mget_ipython\u001b[0m\u001b[0;34m(\u001b[0m\u001b[0;34m)\u001b[0m\u001b[0;34m.\u001b[0m\u001b[0mrun_line_magic\u001b[0m\u001b[0;34m(\u001b[0m\u001b[0;34m'matplotlib'\u001b[0m\u001b[0;34m,\u001b[0m \u001b[0;34m'nbagg'\u001b[0m\u001b[0;34m)\u001b[0m\u001b[0;34m\u001b[0m\u001b[0m\n",
      "\u001b[0;31mImportError\u001b[0m: No module named 'meccel'"
     ]
    }
   ],
   "source": [
    "from meccel import *\n",
    "import numpy\n",
    "%matplotlib nbagg"
   ]
  },
  {
   "cell_type": "markdown",
   "metadata": {},
   "source": [
    "## Problemas de Mecánica Celeste"
   ]
  },
  {
   "cell_type": "markdown",
   "metadata": {},
   "source": [
    "## Problem Set 1: Fundamentos geométricos"
   ]
  },
  {
   "cell_type": "markdown",
   "metadata": {},
   "source": [
    "**Instrucciones:** \n",
    "\n",
    "- Resuelva en siguiente conjunto de problemas de la forma más clara y completa posible.  La solución la puede elaborar en el formato que desee, a mano, en formato LaTeX o directamente como un notebook de iPython.\n",
    "- Los problemas que aparecen con la etiqueta **[NUMÉRICO]** se debe proveer el código fuente en python con el que se resolvieron.\n",
    "- En caso de entregar la solución a todo el problem set o a parte de él como un Jupyter notebook, debe incluir en el notebook los comandos de cabecera: `from meccel import *; %matplotlib nbagg`"
   ]
  },
  {
   "cell_type": "markdown",
   "metadata": {},
   "source": [
    "### Problemas teóricos"
   ]
  },
  {
   "cell_type": "markdown",
   "metadata": {},
   "source": [
    "**1.** **Parámetros geométricos**. Para entender los fundamentos matemáticos y físicos de la mecánica celeste, es necesario comprender cada uno de los parámetros que definen la geometría de las cónicas que describen los cuerpos celestes. Describa conceptualmente a qué corresponden cada uno de los siguientes parámetros en el caso de una elipse.\n",
    "\n",
    "> a) $F$. ¿Corresponde $F$ a lo que llamamos *distancia focal* ¿Corresponde $F$ a lo que llamamos *foco*?\n",
    "\n",
    "> b) $e$. Exentricidad: corresponde al grado de desviación de una sección cónica respecto a una circunferencia, en la elipse  $0<\\epsilon<1$\n",
    "\n",
    "> c) $p$. Foco, pero de una parábola\n",
    " \n",
    "> d) $C$. Distancia del centro a uno de los focos\n",
    "\n",
    "> e) $a$. Semi-eje mayor de la elipse\n",
    "\n",
    "> f) $b$. Semi-eje menor de la elipse\n",
    "\n",
    "> g) $r$. En coordenadas polares, es el vector posición \n",
    "\n",
    "> h) $f$. Achatamiento de la elipse, $f=(a-b)/a$, $e=\\sqrt{f(2-f)}$\n",
    "\n",
    "> i) $E$."
   ]
  },
  {
   "cell_type": "markdown",
   "metadata": {},
   "source": [
    "**2.** **Otra definición de una elipse**. Una elipse se puede definir como el lugar geométrico de los puntos cuya suma de las distancias a dos puntos fijos llamados focos es constante (esto es, en la figura de abajo, que $\\overline{F_1P}+\\overline{F_2P}=\\text{constante}$).\n",
    "\n",
    "<center>\n",
    "<figure>\n",
    "    <img src=\"./elipse.png\" width=\"40%\">\n",
    "    <figcaption></figcaption>\n",
    "</figure>\n",
    "</center>\n",
    "\n",
    "A partir de esta definición y de los parámetros descritos en el punto anterior:\n",
    "\n",
    "> a) Muestre que la constante a la que es igual dicha suma es $2a$.\n",
    "\n",
    "> b) Muestre que $a$, $b$ y la *distancia focal* —definida como la distancia entre el centro $C$ de la elipse y cualquiera de sus focos—, $c$, satisfacen el teorema de pitágoras $a^2=b^2+c^2$.\n",
    "\n",
    "> c) Demuestre a partir de esta definición que la ecuación de la elipse horizontal centrada en $C=(0,0)$ es:\n",
    "\n",
    "$$\n",
    "\\frac{x^2}{a^2}+\\frac{y^2}{b^2}=1\n",
    "$$\n",
    "\n",
    "> d) A partir de las relaciones dadas entre $a$, $b$, $e$ y $F$, muestre que $e$ también se puede calcular como $e=c/a$.\n",
    "\n",
    "> e) A partir de la definición conceptual de $p$ dada en el punto 1, muestre que el \\textit{semilatus rectum} también se puede calcular como $p=b^2/a$.\n"
   ]
  },
  {
   "cell_type": "markdown",
   "metadata": {},
   "source": [
    "**3.** **Traslación de las cónicas.** A partir de una completación de cuadrados, demuestre que la ecuación general de las cónicas sin términos acoplados\n",
    "\n",
    "$$Ax^2+Cy^2+Dx+Ey+G=0$$ \n",
    "\n",
    "con $A,C\\neq 0$ se puede escribir, en su forma ordinaria, como \n",
    "\n",
    "$$\\frac{x'^2}{q}+\\frac{y'^2}{t}=1,$$ \n",
    "\n",
    "¿Qué condiciones se deben dar para que dicha cónica sea una circunferencia, una elipse o una hipérbola? Dé un ejemplo numérico sencillo de cada una.\n"
   ]
  },
  {
   "cell_type": "markdown",
   "metadata": {},
   "source": [
    "### Demostración\n",
    "$$Ax^2+Cy^2+Dx+Ey+G = 0$$\\\\\n",
    "$$\n",
    "\\begin{align}\n",
    " \\rightarrow   & Ax^2+Dx+\\Big(\\frac{D}{2\\sqrt{A}}\\Big)^2+Cy^2+Ey+\\Big(\\frac{E}{2\\sqrt{C}}\\Big)^2 = 0 & \\textrm{Completando cuadrados}\\\\ \n",
    " \\\\\n",
    " \\rightarrow   & \\Big(\\sqrt{A}x+\\frac{D}{2\\sqrt{A}}\\Big)^2+\\Big(\\sqrt{C}x+\\frac{E}{2\\sqrt{C}}\\Big)^2= \\frac{D^2}{4A}+\\frac{E^2}{4C}-G & \\textrm{Factorizando}\\\\\n",
    " \\\\\n",
    " \\rightarrow   & A\\Big(x+\\frac{D}{2A}\\Big)^2+C\\Big(x+\\frac{E}{2C}\\Big)^2=\\frac{D^2}{4A}+\\frac{E^2}{4C}-G & \\textrm{Factorizando A y C}\\\\\n",
    " \\\\\n",
    " \\rightarrow   & \\frac{\\Big(x+\\frac{D}{2A}\\Big)^2}{\\frac{D^2}{2A^2}+\\frac{E^2}{4AC}-\\frac{G}{A}}+\\frac{\\Big(y+\\frac{E}{2C}\\Big)^2}{\\frac{D^2}{4AC}+\\frac{E^2}{4C^2}-\\frac{G}{C}} = 1 & \\textrm{Igualando a 1}\n",
    "\\end{align}\n",
    "$$\n",
    "\n",
    "Si hacemos $x' \\rightarrow x+\\frac{D}{2A}$ y  $y'\\rightarrow y+\\frac{E}{2C}$\n",
    "y además $q\t\\rightarrow  -\\frac{G}{A}+\\frac{D^{2}}{4A^{2}}+\\frac{E^{2}}{4AC},$, $t\t\\rightarrow  -\\frac{G}{C}+\\frac{D^{2}}{4AC}+\\frac{E^{2}}{4C^{2}}.$ \n",
    "\n",
    "Obtenemos entonces: $$\\frac{x'^2}{q}+\\frac{y'^2}{t}=1$$ \n",
    "\n",
    "#### Para que la cónica sea una circunferencia $q=t$, una elipse $q\\neq t$ con $q,t>0$, para una hipérbola $q$ y $t$ tienen diefente signo.\n",
    "\n",
    "##### Ej: \n",
    "$$\n",
    "\\begin{align}\n",
    "\\textrm{Circunferencia} & & \\frac{x^2}{4}+\\frac{y^2}{4} & =1 \\\\\n",
    "\\textrm{Elipse} & &\\frac{x^2}{2}+\\frac{y^2}{4} & =1 \\\\\n",
    "\\textrm{Hiperbola} & & \\frac{x^2}{5}-\\frac{y^2}{4} & =1 \\\\\n",
    "\\end{align}\n",
    "$$"
   ]
  },
  {
   "cell_type": "markdown",
   "metadata": {},
   "source": [
    "**4.** **Ecuación de una elipse.** Encuentre la ecuación general de la elipse cuyo semilatus rectum valga 9 y excentricidad sea 0.5.\n",
    "\n",
    "Si el semilatus rectum vale 9 el punto de la elipse vale $(c,\\pm9)$.\n",
    "$$\n",
    "\\begin{equation}\n",
    "    \\frac{c^2}{2c}-\\frac{(9/2)^2}{\\sqrt{3}c} =1 \n",
    "\\end{equation}\n",
    "$$"
   ]
  },
  {
   "cell_type": "markdown",
   "metadata": {},
   "source": [
    "**5.** **Rotación de cónicas.** A partir de la ecuación general de la cónica con términos acoplados\n",
    "\n",
    "$$Ax^2 + Bxy + Cy^2 + Dx + Ey + G = 0$$\n",
    "\n",
    "aplique una rotación de la forma\n",
    "\n",
    "$$x  =  x' \\cos\\theta - y' \\sin\\theta $$\n",
    "$$y  =  x' \\sin\\theta + y' \\cos\\theta $$\n",
    "\n",
    "y demuestre que si se rota el sistema de coordenadas original un ángulo $\\theta$ que satisface\n",
    "\n",
    "$$\\tan 2\\theta = \\frac{B}{A-C},$$\n",
    "\n",
    "los nuevos ejes estarán alineados con los ejes de simetría. "
   ]
  },
  {
   "cell_type": "markdown",
   "metadata": {},
   "source": [
    "#### Demostración\n",
    "\n",
    "$$\n",
    "\\begin{align}\n",
    "& Ax^2 + Bxy + Cy^2 + Dx + Ey + G = 0 \\\\\n",
    "& \\rightarrow A(x' \\cos\\theta - y' \\sin\\theta)^2+ B(x' \\cos\\theta - y' \\sin\\theta)(x' \\sin\\theta + y' \\cos\\theta) +C(x' \\sin\\theta + y' \\cos\\theta)^2 + D(x' \\cos\\theta - y' \\sin\\theta) + E(x' \\sin\\theta + y' \\cos\\theta) +G =0 \\\\\n",
    "\\\\\n",
    "& \\rightarrow A(x'^2\\cos^2\\theta-2x'y'\\cos\\theta\\sin\\theta+y'^2\\sin^2\\theta)+B(x'^2\\cos\\theta\\sin\\theta+y'^2\\cos\\theta\\sin\\theta-x'y'\\sin^2\\theta+x'y'\\cos^2\\theta)+C(x'^2 \\sin^2\\theta + y'^2 \\cos^2\\theta+2x'y'\\sin\\theta\\cos\\theta) + D(x' \\cos\\theta - y' \\sin\\theta) + E(x' \\sin\\theta + y' \\cos\\theta) +G =0\\\\\n",
    "\\\\\n",
    "& \\rightarrow x'^2(A\\cos^2\\theta+C\\sin^2\\theta+B\\cos\\theta\\sin\\theta)+y'^2(A\\sin^2\\theta+C\\cos^2\\theta+B\\cos\\theta\\sin\\theta)+x'y'(B\\cos2\\theta-(A-C)\\sin2\\theta)+x'(D\\cos\\theta+E\\sin\\theta)+y'(E\\cos\\theta-D\\sin\\theta)+G=0\n",
    "\\end{align}\n",
    "$$\n",
    "\n",
    "Para que el sistema esté alineado con los ejes de simetría el término $x'y'$ debe ser cero, así: \n",
    "\n",
    "$$ \n",
    "\\begin{align}\n",
    "B\\cos2\\theta-(A-C)\\sin2\\theta=0\\\\\n",
    "\\\\\n",
    "\\rightarrow B\\cos2\\theta=(A-C)\\sin2\\theta\\\\\n",
    "\\\\\n",
    "\\rightarrow \\tan2\\theta=\\frac{B}{A-C}\n",
    "\\end{align}$$\n"
   ]
  },
  {
   "cell_type": "markdown",
   "metadata": {},
   "source": [
    "**6.** **Órbitas de cometas.** El semieje mayor de un cometa es de 20 AU y la distancia entre el foco y el perihelio es de 1 AU. \n",
    "> a) ¿Cuál es la excentricidad de la órbita?\n",
    "    $$\n",
    "    \\begin{align}\n",
    "    & a & = 20UA \\\\\n",
    "    & a-c & =1UA \\\\\n",
    "    \\rightarrow c & & = 19UA\\\\\n",
    "    \\rightarrow e & &= c/a = 19/20 = 0.95\n",
    "    \\end{align}\n",
    "    $$\n",
    "> b) ¿Cuánto vale el semieje menor?\n",
    "    $$\n",
    "    \\begin{equation}\n",
    "    b=a\\sqrt{1-e^2}=20\\sqrt{1-0.95^2}=6.24 UA\n",
    "    \\end{equation}\n",
    "    $$\n",
    "> c) ¿Cuánto vale el semilatus rectum?\n",
    "    $$\n",
    "    \\begin{equation}\n",
    "    l=\\frac{b^2}{a}=\\frac{6.24^2}{20}=1.94 UA\n",
    "    \\end{equation}\n",
    "    $$\n",
    "> d) Escriba la ecuación de este cometa en coordenadas polares.\n",
    "\n",
    "\n",
    "> e) Haga un bosquejo de la situación medianamente a escala."
   ]
  },
  {
   "cell_type": "code",
   "execution_count": 7,
   "metadata": {},
   "outputs": [
    {
     "data": {
      "text/plain": [
       "1.9468800000000002"
      ]
     },
     "execution_count": 7,
     "metadata": {},
     "output_type": "execute_result"
    }
   ],
   "source": [
    "6.24**2/20"
   ]
  },
  {
   "cell_type": "markdown",
   "metadata": {},
   "source": [
    "**7.** **Órbita lunar.** Sobre una órbita lunar, el punto más cercano al satélite se conoce como periselenio y el más lejano como aposelenio. La nave Apolo 11 fue puesta en una órbita elíptica alrededor de la luna con una altitud (respecto a la superficie lunar) en el periselenio de 110 km y de 314 km en el aposelenio. Encuentre la ecuación de esta elipse en coordenadas polares si el radio de la luna es de 1728 km y el centro de la luna se encuentra en uno de los focos de la elipse. Haga un bosquejo de la situación medianamente a escala."
   ]
  },
  {
   "cell_type": "markdown",
   "metadata": {},
   "source": [
    "**8. Anomalías.**\n",
    "\n",
    "> a) Demuestre que, para una elipse, la distancia radial, $r$, está relacionada con la anomalía excéntrica, $E$, por medio de la expresión\n",
    "  \n",
    "$$\n",
    "r=a(1 - e\\cos E).\n",
    "$$\n",
    "\n",
    "> b) Demuestre, además, que la anomalía verdadera se relaciona con la anomalía excéntrica a través de \n",
    "  \n",
    "$$\n",
    "\\tan \\frac{f}{2} = \\sqrt{\\frac{1+e}{1-e}}\\tan \\frac{E}{2}.\n",
    "$$\n"
   ]
  },
  {
   "cell_type": "markdown",
   "metadata": {},
   "source": [
    "### Problemas numéricos"
   ]
  },
  {
   "cell_type": "markdown",
   "metadata": {},
   "source": [
    "**9. [NUMÉRICO] Gráfica de una elipse.** Grafique la elipse dada por la ecuación $x^2 + 2y^2 + 2x + y - 6 = 0$. Para ello, complete cuadrados y llévela a su forma ordinaria, determine el centro, el semieje mayor, semieje menor, distancia focal y semilatus rectum."
   ]
  },
  {
   "cell_type": "markdown",
   "metadata": {},
   "source": [
    "**10. [NUMÉRICO] Gráfica de otra cónica.** Grafique la cónica dada por la ecuación $x^2 -3xy + 2y^2 + 2x + y - 6 = 0$. Para ello, encuentre el ángulo que debe rotar el sistema para que los nuevos ejes estén alineados con los ejes de simetría, aplique dicha rotación, complete cuadrados y llévela a su forma ordinaria, identifique qué tipo de cónica es, determine el centro, el semieje mayor, semieje menor, distancia focal y semilatus rectum."
   ]
  },
  {
   "cell_type": "markdown",
   "metadata": {},
   "source": [
    "**11. [NUMÉRICO] Elementos orbitales.** Para un satélite en órbita alrededor de la Tierra se tienen los siguientes elementos orbitales: $a=8016.0\\mbox{ km}$, $e=0.06$, $I=50^\\text{o}$, $\\Omega=0.0^\\text{o}$, $\\omega=30^\\text{o}$ y $f=20^\\text{o}$. Encuentre el vector de posición en el plano fundamental del ecuador terrestre."
   ]
  }
 ],
 "metadata": {
  "kernelspec": {
   "display_name": "Python 3",
   "language": "python",
   "name": "python3"
  },
  "language_info": {
   "codemirror_mode": {
    "name": "ipython",
    "version": 3
   },
   "file_extension": ".py",
   "mimetype": "text/x-python",
   "name": "python",
   "nbconvert_exporter": "python",
   "pygments_lexer": "ipython3",
   "version": "3.5.2"
  }
 },
 "nbformat": 4,
 "nbformat_minor": 2
}
