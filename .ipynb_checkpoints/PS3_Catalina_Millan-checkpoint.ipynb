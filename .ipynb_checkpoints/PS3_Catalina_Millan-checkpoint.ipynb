{
 "cells": [
  {
   "cell_type": "code",
   "execution_count": 1,
   "metadata": {
    "scrolled": false
   },
   "outputs": [],
   "source": [
    "import numpy as np\n",
    "import matplotlib.pyplot as plt"
   ]
  },
  {
   "cell_type": "code",
   "execution_count": 2,
   "metadata": {},
   "outputs": [],
   "source": [
    "def mag(vec):\n",
    "    return np.dot(vec,vec)**.5"
   ]
  },
  {
   "cell_type": "markdown",
   "metadata": {},
   "source": [
    "## **1) De verctor de estado a elementos orbitales** \n",
    "\n",
    "Un satelite en  ́orbita alrededor de la Tierra\n",
    "tiene una posicion instantanea $\\vec{r} = 6045,0\\hat{i}+ 3490,0\\hat{j} + 0\\hat{k} [km]$ y una velocidad $\\vec{v} = −2,457\\hat{i}+\n",
    "6,618\\hat{j}+2,533\\hat{k} [km/s]$. Determine los elementos orbitales suponiendo que el plano fundamental\n",
    "es el ecuador terrestre."
   ]
  },
  {
   "cell_type": "code",
   "execution_count": 3,
   "metadata": {},
   "outputs": [],
   "source": [
    "r=np.array([6045000.0,3490000,0]) #m\n",
    "v=np.array([-2457,6618,2533]) #m/s"
   ]
  },
  {
   "cell_type": "code",
   "execution_count": 4,
   "metadata": {},
   "outputs": [],
   "source": [
    "i=np.array([1,0,0])\n",
    "j=np.array([0,1,0])\n",
    "k=np.array([0,0,1])"
   ]
  },
  {
   "cell_type": "markdown",
   "metadata": {},
   "source": [
    "$$\\vec{n}=\\hat{k}\\times\\vec{h}$$\n",
    "$$\\vec{h}=\\vec{r} \\times \\dot{ \\vec{r}}$$\n"
   ]
  },
  {
   "cell_type": "code",
   "execution_count": 5,
   "metadata": {},
   "outputs": [],
   "source": [
    "h=np.cross(r,v)\n",
    "n=np.cross(k,h)"
   ]
  },
  {
   "cell_type": "markdown",
   "metadata": {},
   "source": [
    "Como es un satélite que orbita la tierra supondremos que $M_{satelite}<<M_{tierra}$. Así, $\\mu=G(M_t+M_s)\\approx GM_t$.\n",
    "\n",
    "\n",
    "$$\\mu=3.983\\times 10^{24}m^3/s^2$$\n",
    "\n",
    "$$\\vec{A}=\\dot{\\vec{r}}\\times\\vec{h}-\\mu\\frac{\\vec{r}}{r}$$\n",
    "\n",
    "$$ \\vec{e}=\\frac{\\vec{A}}{\\mu}$$"
   ]
  },
  {
   "cell_type": "code",
   "execution_count": 6,
   "metadata": {},
   "outputs": [],
   "source": [
    "mu=6.67e-11*5.972e24\n",
    "A=np.cross(v,h)-mu*r/mag(r)\n",
    "e=A/mu"
   ]
  },
  {
   "cell_type": "markdown",
   "metadata": {},
   "source": [
    "$$\\cos(\\Omega)=\\frac{\\vec{n} . \\hat{i}}{n}$$\n",
    "\n",
    "$$\\cos\\omega=\\frac{\\vec{n}.\\vec{e}}{ne}$$\n",
    "\n",
    "$$\\cos f=\\frac{\\vec{e}.\\vec{r}}{er}$$\n",
    "\n",
    "$$\\cos i= \\frac{\\vec{h}.\\hat{k}}{h}$$"
   ]
  },
  {
   "cell_type": "code",
   "execution_count": 7,
   "metadata": {},
   "outputs": [
    {
     "name": "stdout",
     "output_type": "stream",
     "text": [
      "Omega=29.99941, omega=-97.90005, f=104.18323, i=20\n"
     ]
    }
   ],
   "source": [
    "if np.dot(n,j)>0:\n",
    "    Omega=np.arccos(np.dot(n,i)/mag(n))*180./np.pi\n",
    "else: \n",
    "    Omega=2.*np.pi-np.arccos(np.dot(n,i)/mag(n))*180./np.pi\n",
    "    \n",
    "if np.dot(e,k)>=0:\n",
    "    omega=np.arccos(np.dot(n,e)/(mag(n)*mag(e)))*180./np.pi\n",
    "else: \n",
    "    omega=2.*np.pi-np.arccos(np.dot(n,e)/(mag(n)*mag(e)))*180/np.pi\n",
    "    \n",
    "vr= np.dot(r,v)/mag(r)\n",
    "\n",
    "if vr>=0:\n",
    "    f=np.arccos(np.dot(e,r)/(mag(e)*mag(r)))*180./np.pi\n",
    "else:\n",
    "    f=2*np.pi-np.arccos(np.dot(e,r)/(mag(e)*mag(r)))*180./np.pi\n",
    "    \n",
    "ii=np.arccos(np.dot(h,k)/mag(h))*180./np.pi\n",
    "\n",
    "print('Omega=%.5f, omega=%.5f, f=%.5f, i=%.f' %(Omega,omega,f,ii))"
   ]
  },
  {
   "cell_type": "markdown",
   "metadata": {},
   "source": [
    "$$\\Omega=30.0^{\\circ}$$\n",
    "\n",
    "$$\\omega=262.1^{\\circ}$$\n",
    "\n",
    "$$f=104.2^{\\circ}$$\n",
    "\n",
    "$$i=20.0^{\\circ}$$"
   ]
  },
  {
   "cell_type": "markdown",
   "metadata": {},
   "source": [
    "## **2). Satelite en  órbita.**\n",
    "Un satelite en  ́orbita elıptica alrededor de la Tierra tiene un perıodo de\n",
    "15.7430 horas y una distancia al perigeo de 12756.0 km (respecto al centro de la Tierra). En\n",
    "t = 10 horas despues del paso por el perigeo calcule:"
   ]
  },
  {
   "cell_type": "code",
   "execution_count": 8,
   "metadata": {},
   "outputs": [],
   "source": [
    "T=15.7430*60**2\n",
    "d=12756000 #Distanica a perigeo\n",
    "t=10*60**2 "
   ]
  },
  {
   "cell_type": "markdown",
   "metadata": {},
   "source": [
    "Por tercera ley de Kepler, $$a=\\Big(\\frac{T^2\\mu}{4\\pi^2}\\Big)^{1/3}$$.\n",
    "\n",
    "Además $d$ la distancia al perigeo, es $d=a-c$.\n",
    "\n",
    "$$e=\\frac{c}{a} $$"
   ]
  },
  {
   "cell_type": "code",
   "execution_count": 9,
   "metadata": {},
   "outputs": [],
   "source": [
    "a=(T**2*mu/(4.*np.pi**2))**(1./3)\n",
    "c=a-d\n",
    "e=c/a\n",
    "f_0=0 #Anomalía verdadera en t=0\n",
    "p=a*(1-e**2) #Semilatus Rectum\n",
    "r_0=p/(1+np.cos(f_0)) #Distancia radial en t=0\n"
   ]
  },
  {
   "cell_type": "markdown",
   "metadata": {},
   "source": [
    "Como a $e=0.59986<0.6627434$, se usa la solución a la ecuación de Kepler:\n",
    "$$E=M+sin(E)$$\n",
    "\n",
    "Donde $M=n(t-t_p)$, es la anmalía media $t_p$ el tiempo de paso por el perigeo y $n=\\frac{2\\pi}{T}$ el movimiento medio "
   ]
  },
  {
   "cell_type": "code",
   "execution_count": 10,
   "metadata": {},
   "outputs": [
    {
     "data": {
      "text/plain": [
       "3.6822995617079592"
      ]
     },
     "execution_count": 10,
     "metadata": {},
     "output_type": "execute_result"
    }
   ],
   "source": [
    "h=(p*mu)**.5\n",
    "\n",
    "n=2*np.pi/T # Movimiento medio\n",
    "t_p=0 #tiempo de paso por el perigeo\n",
    "\n",
    "M=n*(t-t_p) #Anomalía media \n",
    "\n",
    "E=M\n",
    "for i in range(100):\n",
    "    E=M+e*np.sin(E)\n",
    "    \n",
    "E"
   ]
  },
  {
   "cell_type": "markdown",
   "metadata": {},
   "source": [
    "La ecuación converge a $E=3.6823$, así:"
   ]
  },
  {
   "cell_type": "code",
   "execution_count": 11,
   "metadata": {},
   "outputs": [
    {
     "data": {
      "text/plain": [
       "48280.9087500236"
      ]
     },
     "execution_count": 11,
     "metadata": {},
     "output_type": "execute_result"
    }
   ],
   "source": [
    "r_t10=a*(1-e*np.cos(E)) #Distancia radial en t=10 horas\n",
    "\n",
    "r_t10/1000"
   ]
  },
  {
   "cell_type": "markdown",
   "metadata": {},
   "source": [
    "**a)** La distancia radial luego de diez horas del paso por el perigeo es **48281 km**"
   ]
  },
  {
   "cell_type": "markdown",
   "metadata": {},
   "source": [
    "La magnitud de la velocidad se puede obtener de la ecuación de vis-visa\n",
    "\n",
    "$$v^2=\\mu\\Big(\\frac{2}{r}-\\frac{1}{a}\\Big)$$"
   ]
  },
  {
   "cell_type": "code",
   "execution_count": 12,
   "metadata": {},
   "outputs": [
    {
     "data": {
      "text/plain": [
       "2.00173388093744"
      ]
     },
     "execution_count": 12,
     "metadata": {},
     "output_type": "execute_result"
    }
   ],
   "source": [
    "v_t10=(mu*(2./r_t10 - 1./a))**.5\n",
    "v_t10/1000"
   ]
  },
  {
   "cell_type": "markdown",
   "metadata": {},
   "source": [
    "**b)** La magnitud de la velocidad es 2.00 km/s"
   ]
  },
  {
   "cell_type": "markdown",
   "metadata": {},
   "source": [
    "Se sabe que $$\\vec{h}=\\vec{r}\\times\\vec{\\dot{r}}=r.\\dot{r} sin \\phi$$\n",
    "\n",
    "$$\\rightarrow \\phi=sin^{-1}\\Big(\\frac{h}{r.\\dot{r}}\\Big)$$ \n",
    "\n",
    "Donde $\\phi$ es el ángulo entre $\\vec{r}$ y $\\vec{\\dot{r}}$. Así:\n",
    "\n",
    "$$v_{rad}=v.cos(\\phi)$$\n"
   ]
  },
  {
   "cell_type": "code",
   "execution_count": 13,
   "metadata": {},
   "outputs": [
    {
     "data": {
      "text/plain": [
       "0.7207752726386625"
      ]
     },
     "execution_count": 13,
     "metadata": {},
     "output_type": "execute_result"
    }
   ],
   "source": [
    "phi=np.arcsin(h/(r_t10*v_t10))\n",
    "v_r=v_t10*np.cos(phi)\n",
    "v_r/1000"
   ]
  },
  {
   "cell_type": "markdown",
   "metadata": {},
   "source": [
    "**c)** La componente radial de la **velocidad es 0.720 km/s**"
   ]
  },
  {
   "cell_type": "markdown",
   "metadata": {},
   "source": [
    "Si la tasa de cambio de la variable radial $V_r=\\frac{\\vec{r}.\\vec{v}}{r}$, es menor que cero, se acerca al periapsis."
   ]
  },
  {
   "cell_type": "markdown",
   "metadata": {},
   "source": [
    "**d)** Como el argumento del periápsis $\\omega$ es mayor que $180^{\\circ}$, el satélise se está **acercando al periápsis**."
   ]
  },
  {
   "cell_type": "markdown",
   "metadata": {},
   "source": [
    "## **5) Velocidad mınima respecto a un sistema rotante.** \n",
    "Una nave espacial se encuentra en\n",
    "una  ́orbita circular alrededor de la tierra con una altitud de 100 km y con un inclinacion\n",
    "orbital respecto al ecuador terrestre de 28,6◦\n",
    "(esto  ́ultimo garantiza que la nave espacial y la\n",
    "Luna se mueven sobre el mismo plano). A la nave se le dar ́a un incremento tangencial en la velocidad, de tal manera que la  ́orbita subsecuente sea capaz de llevarla a una  ́orbita lunar sin\n",
    "variar su inclinaci ́on orbital y con el m ́ınimo gasto de combustible posible. Considerando la\n",
    "teor ́ıa alrededor de la constante de Jacobi, encuentre la velocidad m ́ınima que deber ́ıa tener\n",
    "la nave espacial (respecto al sistema rotante) requerida para este prop ́osito. (Hint: calcule el\n",
    "valor de C asociado con una partıcula hipotetica en reposo localizada en L1)"
   ]
  },
  {
   "cell_type": "code",
   "execution_count": 14,
   "metadata": {},
   "outputs": [],
   "source": [
    "i=28.6*np.pi/180"
   ]
  },
  {
   "cell_type": "markdown",
   "metadata": {},
   "source": [
    "## **6) Posición de Neptuno** \n",
    "\n",
    "Prediga el vector de posici ́on (respecto a la ecl ́ıptica) del\n",
    "planeta Neptuno para el d ́ıa 14 octubre de 2019 a las 00:00:00 UT. Calcule el error relativo\n",
    "porcentual de sus resultados con aquellos entregados por el sistema HORIZONS de NASA,\n",
    "que para ese momento particular son:\n",
    "\n",
    "$$x_{ecliptica}=+2,919007594264247\\times10^{1}UA$$\n",
    "$$y_{ecliptica}=−6,610890476412660\\times10^{00}UA$$\n",
    "$$z_{ecliptica}=−5,366637740198267\\times10^{-1}UA$$"
   ]
  },
  {
   "cell_type": "code",
   "execution_count": 15,
   "metadata": {},
   "outputs": [],
   "source": [
    "xe=2.919007594264247e1\n",
    "ye=6.610890476412660\n",
    "ze=5.366637740198267e-1\n",
    "\n",
    "re_t=np.array([xe,ye,ze])"
   ]
  },
  {
   "cell_type": "code",
   "execution_count": 16,
   "metadata": {},
   "outputs": [],
   "source": [
    "# Elementos orbitales de Neptuno\n",
    "e=0.00858587\n",
    "a=30.10366151 #UA"
   ]
  },
  {
   "cell_type": "code",
   "execution_count": null,
   "metadata": {},
   "outputs": [],
   "source": []
  },
  {
   "cell_type": "markdown",
   "metadata": {},
   "source": [
    "### **8) Puntos colineales de Lagrange**\n",
    "[numerico]. Calcule numericamente la ubicacion de los\n",
    "tres puntos colineales de Lagrange para un valor de α = 0,3 resolviendo la ecuacion.\n",
    "\n",
    "$$x-(1-\\alpha)\\frac{x-x_1}{|x-x_1|^3}-\\alpha\\frac{x-x_1}{|x-x_2|^3}=0$$"
   ]
  },
  {
   "cell_type": "code",
   "execution_count": 17,
   "metadata": {},
   "outputs": [],
   "source": [
    "alpha=.3\n",
    "\n",
    "x1=-alpha\n",
    "x2=1-alpha"
   ]
  },
  {
   "cell_type": "markdown",
   "metadata": {},
   "source": [
    "**Usando el método de cruce de rectas, se encuentran los puntos de lagrange.**"
   ]
  },
  {
   "cell_type": "code",
   "execution_count": 18,
   "metadata": {},
   "outputs": [
    {
     "name": "stdout",
     "output_type": "stream",
     "text": [
      "Se encontraron 5 raices en el rango dado \n",
      "\n",
      "x=-1.12\n",
      "x=-0.30\n",
      "x=0.29\n",
      "x=0.70\n",
      "x=1.26\n"
     ]
    }
   ],
   "source": [
    "rango=[-2,3]\n",
    "def f1(x): \n",
    "    return x-(1-alpha)*(x-x1)/abs(x-x1)**3-alpha*(x-x2)/abs(x-x2)**3\n",
    "def f2(x):\n",
    "    return 0\n",
    "\n",
    "x_array=np.arange(rango[0],rango[1],.001)\n",
    "y1_array=[f1(i) for i in x_array]\n",
    "y2_array=[f2(i) for i in x_array]\n",
    "\n",
    "ptosx=[]\n",
    "ptosy1=[]\n",
    "ptosy2=[]\n",
    "\n",
    "# Verificamos que haya interseccion\n",
    "for i in range(len(x_array)-1):\n",
    "    if y1_array[i]<y2_array[i] and y1_array[i+1]>=y2_array[i+1] or y1_array[i]>=y2_array[i] and y1_array[i+1]<y2_array[i+1]:\n",
    "    \n",
    "        ptosx.append(x_array[i])\n",
    "        ptosx.append(x_array[i+1])\n",
    "        \n",
    "        ptosy1.append(y1_array[i])\n",
    "        ptosy1.append(y1_array[i+1])\n",
    "    \n",
    "        ptosy2.append(y2_array[i])\n",
    "        ptosy2.append(y2_array[i+1])\n",
    "\n",
    "\n",
    "def cruce_rectas(x1,x2,y11,y12,y21,y22):\n",
    "    \n",
    "    m1=(y12-y11)/(x2-x1)\n",
    "    m2=(y22-y21)/(x2-x1)\n",
    "    \n",
    "    if (m1!=m2):\n",
    "        \n",
    "        b1=-x1*m1+y11\n",
    "        b2=-x1*m2+y21\n",
    "\n",
    "        #Pto de interseccion (a,c)\n",
    "        a=(b2-b1)/(m1-m2)\n",
    "        c=a*m1+b1\n",
    "    \n",
    "        return (a,c)\n",
    "\n",
    "#Se recorre la lista x_array usando la funcion cruce_rectas \n",
    "ptos_crucex=[]\n",
    "ptos_crucey=[]\n",
    "\n",
    "#El indice es por que cruce_rectas entrega dos argumentos\n",
    "for i in range(0,len(ptosx),2):\n",
    "    ptos_crucex.append(cruce_rectas(ptosx[i],ptosx[i+1],ptosy1[i],ptosy1[i+1],ptosy2[i],ptosy2[i+1])[0])\n",
    "    ptos_crucey.append(cruce_rectas(ptosx[i],ptosx[i+1],ptosy1[i],ptosy1[i+1],ptosy2[i],ptosy2[i+1])[1])\n",
    "\n",
    "print(\"Se encontraron %d raices en el rango dado \\n\" %(len(ptos_crucex)))\n",
    "for i in range(len(ptos_crucex)):\n",
    "    print ('x=%.2f' %(ptos_crucex[i]))"
   ]
  },
  {
   "cell_type": "markdown",
   "metadata": {},
   "source": [
    "**Los punto de Lagrange encontrados para dos cuerpos con posiciones $x_1=-0.30$ y $x_2=0.70$ son:**\n",
    "\n",
    "$$x_{L1}=-1.12$$ $$x_{L2}=0.29$$ $$x_{L3}=1.26$$ "
   ]
  },
  {
   "cell_type": "code",
   "execution_count": 19,
   "metadata": {
    "scrolled": true
   },
   "outputs": [
    {
     "data": {
      "image/png": "[encoded data removed]",
      "text/plain": [
       "<Figure size 720x360 with 1 Axes>"
      ]
     },
     "metadata": {
      "needs_background": "light"
     },
     "output_type": "display_data"
    }
   ],
   "source": [
    "fig=plt.figure(figsize=(10,5))\n",
    "ax=plt.axes()\n",
    "ax.grid()\n",
    "ax.plot([x1,x2],[0,0],'o',markersize=15)\n",
    "ax.plot(ptos_crucex,ptos_crucey,'.',markersize=15)\n",
    "plt.xlim(-2,3)\n",
    "plt.show()"
   ]
  },
  {
   "cell_type": "markdown",
   "metadata": {},
   "source": [
    "## **5)** Velocidad mínima respecto a un sistema rotante.\n",
    "\n",
    "Una nave espacial se encuentra en una  ́orbita circular alrededor de la tierra con una altitud de 100 km y con un inclinación orbital respecto al ecuador terrestre de 28,6◦ (esto  ́ultimo garantiza que la nave espacial y la Luna se mueven sobre el mismo plano). A la nave se le dar ́a un incremento tangencial en la velocidad, de tal manera que la  ́orbita subsecuente sea capaz de llevarla a una  ́orbita lunar sin variar su inclinaci ́on orbital y con el mınimo gasto de combustible posible. Considerando la teorıa alrededor de la constante de Jacobi, encuentre la velocidad mínima que deberıa tener la nave espacial (respecto al sistema rotante) requerida para este proposito. (Hint: calcule el\n",
    "valor de C asociado con una partıcula hipotetica en reposo localizada en L1)"
   ]
  },
  {
   "cell_type": "code",
   "execution_count": 20,
   "metadata": {},
   "outputs": [],
   "source": [
    "mt=5.97e24 #masa tierra \n",
    "ml=7.349e22 #masa luna\n",
    "I=28.6*np.pi/180\n",
    "\n",
    "#Unidades caníncas\n",
    "a=381555 #semieje mayor luna\n",
    "T=27*24*60**2 #Periodo orbital de la luna\n",
    "\n",
    "uL=a\n",
    "uT=T/(2*np.pi)**2 \n",
    "uM=(mt+ml)"
   ]
  },
  {
   "cell_type": "code",
   "execution_count": 21,
   "metadata": {},
   "outputs": [],
   "source": [
    "alpha=ml/(mt+ml)\n",
    "x1=-alpha\n",
    "x2=1-alpha"
   ]
  },
  {
   "cell_type": "code",
   "execution_count": 22,
   "metadata": {
    "scrolled": true
   },
   "outputs": [
    {
     "name": "stdout",
     "output_type": "stream",
     "text": [
      "Se encontraron 5 raices en el rango dado \n",
      "\n",
      "x=-1.01\n",
      "x=-0.01\n",
      "x=0.84\n",
      "x=0.99\n",
      "x=1.16\n"
     ]
    }
   ],
   "source": [
    "rango=[-2,3]\n",
    "def f1(x): \n",
    "    return x-(1-alpha)*(x-x1)/abs(x-x1)**3-alpha*(x-x2)/abs(x-x2)**3\n",
    "def f2(x):\n",
    "    return 0\n",
    "\n",
    "x_array=np.arange(rango[0],rango[1],.001)\n",
    "y1_array=[f1(i) for i in x_array]\n",
    "y2_array=[f2(i) for i in x_array]\n",
    "\n",
    "ptosx=[]\n",
    "ptosy1=[]\n",
    "ptosy2=[]\n",
    "\n",
    "# Verificamos que haya interseccion\n",
    "for i in range(len(x_array)-1):\n",
    "    if y1_array[i]<y2_array[i] and y1_array[i+1]>=y2_array[i+1] or y1_array[i]>=y2_array[i] and y1_array[i+1]<y2_array[i+1]:\n",
    "    \n",
    "        ptosx.append(x_array[i])\n",
    "        ptosx.append(x_array[i+1])\n",
    "        \n",
    "        ptosy1.append(y1_array[i])\n",
    "        ptosy1.append(y1_array[i+1])\n",
    "    \n",
    "        ptosy2.append(y2_array[i])\n",
    "        ptosy2.append(y2_array[i+1])\n",
    "\n",
    "\n",
    "def cruce_rectas(x1,x2,y11,y12,y21,y22):\n",
    "    \n",
    "    m1=(y12-y11)/(x2-x1)\n",
    "    m2=(y22-y21)/(x2-x1)\n",
    "    \n",
    "    if (m1!=m2):\n",
    "        \n",
    "        b1=-x1*m1+y11\n",
    "        b2=-x1*m2+y21\n",
    "\n",
    "        #Pto de interseccion (a,c)\n",
    "        a=(b2-b1)/(m1-m2)\n",
    "        c=a*m1+b1\n",
    "    \n",
    "        return (a,c)\n",
    "\n",
    "#Se recorre la lista x_array usando la funcion cruce_rectas \n",
    "ptos_crucex=[]\n",
    "ptos_crucey=[]\n",
    "\n",
    "#El indice es por que cruce_rectas entrega dos argumentos\n",
    "for i in range(0,len(ptosx),2):\n",
    "    ptos_crucex.append(cruce_rectas(ptosx[i],ptosx[i+1],ptosy1[i],ptosy1[i+1],ptosy2[i],ptosy2[i+1])[0])\n",
    "    ptos_crucey.append(cruce_rectas(ptosx[i],ptosx[i+1],ptosy1[i],ptosy1[i+1],ptosy2[i],ptosy2[i+1])[1])\n",
    "\n",
    "print(\"Se encontraron %d raices en el rango dado \\n\" %(len(ptos_crucex)))\n",
    "for i in range(len(ptos_crucex)):\n",
    "    print ('x=%.2f' %(ptos_crucex[i]))"
   ]
  },
  {
   "cell_type": "markdown",
   "metadata": {},
   "source": [
    "Se halla el valor del punto de Lagrange en medio de los dos cuerpos. **$L_1$=0.84** en unidades canónicas"
   ]
  },
  {
   "cell_type": "code",
   "execution_count": 23,
   "metadata": {},
   "outputs": [
    {
     "name": "stdout",
     "output_type": "stream",
     "text": [
      "r1=0.85216,r2=0.14784\n"
     ]
    }
   ],
   "source": [
    "L=.84\n",
    "r1=alpha+L\n",
    "r2=1-alpha-L\n",
    "print('r1=%.5f,r2=%.5f'%(r1,r2))"
   ]
  },
  {
   "cell_type": "markdown",
   "metadata": {},
   "source": [
    "$$C=-v^2+2\\frac{(1-\\alpha)}{r_1}+2\\frac{\\alpha}{r_2}+2 h cosI$$"
   ]
  },
  {
   "cell_type": "markdown",
   "metadata": {},
   "source": [
    "Se sabe además que $h^2=\\mu a(1-e^2)$, donde $e=0$ pues es una órbira circular y $a=1$, $\\mu=1$en unidades canónicas. Entonces $h=1$. En un punto de Lagrange $v=0$. $I=28.6$"
   ]
  },
  {
   "cell_type": "code",
   "execution_count": 24,
   "metadata": {},
   "outputs": [],
   "source": [
    "c=2*(1-alpha)/r1+2*alpha/r2+2*np.cos(I)"
   ]
  },
  {
   "cell_type": "markdown",
   "metadata": {},
   "source": [
    "Además, por el ejercicio **3)** se sabe que $C_{min}=3-\\alpha(1-\\alpha)$"
   ]
  },
  {
   "cell_type": "code",
   "execution_count": null,
   "metadata": {},
   "outputs": [],
   "source": []
  }
 ],
 "metadata": {
  "kernelspec": {
   "display_name": "Python 3",
   "language": "python",
   "name": "python3"
  },
  "language_info": {
   "codemirror_mode": {
    "name": "ipython",
    "version": 3
   },
   "file_extension": ".py",
   "mimetype": "text/x-python",
   "name": "python",
   "nbconvert_exporter": "python",
   "pygments_lexer": "ipython3",
   "version": "3.6.8"
  }
 },
 "nbformat": 4,
 "nbformat_minor": 2
}
