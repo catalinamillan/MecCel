{
 "cells": [
  {
   "cell_type": "code",
   "execution_count": 63,
   "metadata": {
    "scrolled": false
   },
   "outputs": [
    {
     "ename": "ImportError",
     "evalue": "No module named matplotlip.pyplot",
     "output_type": "error",
     "traceback": [
      "\u001b[0;31m---------------------------------------------------------------------------\u001b[0m",
      "\u001b[0;31mImportError\u001b[0m                               Traceback (most recent call last)",
      "\u001b[0;32m<ipython-input-63-345028614296>\u001b[0m in \u001b[0;36m<module>\u001b[0;34m()\u001b[0m\n\u001b[1;32m      1\u001b[0m \u001b[0;32mimport\u001b[0m \u001b[0mnumpy\u001b[0m \u001b[0;32mas\u001b[0m \u001b[0mnp\u001b[0m\u001b[0;34m\u001b[0m\u001b[0;34m\u001b[0m\u001b[0m\n\u001b[0;32m----> 2\u001b[0;31m \u001b[0;32mimport\u001b[0m \u001b[0mmatplotlip\u001b[0m\u001b[0;34m.\u001b[0m\u001b[0mpyplot\u001b[0m \u001b[0;32mas\u001b[0m \u001b[0mplt\u001b[0m\u001b[0;34m\u001b[0m\u001b[0;34m\u001b[0m\u001b[0m\n\u001b[0m",
      "\u001b[0;31mImportError\u001b[0m: No module named matplotlip.pyplot"
     ]
    }
   ],
   "source": [
    "import numpy as np\n",
    "import matplotlip.pyplot as plt"
   ]
  },
  {
   "cell_type": "code",
   "execution_count": 64,
   "metadata": {},
   "outputs": [],
   "source": [
    "def mag(vec):\n",
    "    return np.dot(vec,vec)**.5"
   ]
  },
  {
   "cell_type": "markdown",
   "metadata": {},
   "source": [
    "**1) De verctor de estado a elementos orbitales** Un satelite en  ́orbita alrededor de la Tierra\n",
    "tiene una posicion instantanea $\\vec{r} = 6045,0i+ 3490,0ˆj + 0ˆk [km]$ y una velocidad $\\vec{v} = −2,457ˆi+\n",
    "6,618ˆj+2,533ˆk [km/s]$. Determine los elementos orbitales suponiendo que el plano fundamental\n",
    "es el ecuador terrestre."
   ]
  },
  {
   "cell_type": "code",
   "execution_count": 65,
   "metadata": {},
   "outputs": [],
   "source": [
    "r=np.array([6045.0,3490,0])\n",
    "v=np.array([-2.457,6.618,2.533])"
   ]
  },
  {
   "cell_type": "code",
   "execution_count": 66,
   "metadata": {},
   "outputs": [],
   "source": [
    "i=np.array([1,1,0])\n",
    "j=np.array([1,1,0])\n",
    "k=np.array([0,0,1])"
   ]
  },
  {
   "cell_type": "markdown",
   "metadata": {},
   "source": [
    "$$\\vec{n}=\\hat{k}\\times\\vec{h}$$\n",
    "$$\\vec{h}=\\vec{r} \\times \\dot{ \\vec{r}}$$\n"
   ]
  },
  {
   "cell_type": "code",
   "execution_count": 67,
   "metadata": {},
   "outputs": [],
   "source": [
    "h=np.cross(r,v)\n",
    "n=np.cross(k,h)"
   ]
  },
  {
   "cell_type": "markdown",
   "metadata": {},
   "source": [
    "Como es un satélite que orbita la tierra supondremos que $M_{satelite}<<M_{tierra}$. Así, $\\mu=G(M_t+M_s)\\approx GM_t$.\n",
    "\n",
    "\n",
    "$$\\mu=3.983\\times 10^{24}m^3/s^2$$\n",
    "\n",
    "$$\\vec{A}=\\dot{\\vec{r}}\\times\\vec{h}-\\mu\\frac{\\vec{r}}{r}$$\n",
    "\n",
    "$$ \\vec{e}=\\frac{\\vec{A}}{\\mu}$$"
   ]
  },
  {
   "cell_type": "code",
   "execution_count": 68,
   "metadata": {},
   "outputs": [],
   "source": [
    "mu=3.983e24\n",
    "A=np.cross(v,h)-mu*r/mag(r)**.5\n",
    "e=A/mu"
   ]
  },
  {
   "cell_type": "markdown",
   "metadata": {},
   "source": [
    "$$\\cos(\\Omega)=\\frac{\\vec{n} . \\hat{i}}{n}$$\n",
    "\n",
    "$$\\cos\\omega=\\frac{\\vec{n}.\\vec{e}}{ne}$$\n",
    "\n",
    "$$\\cos f=\\frac{\\vec{e}\\vec{r}}{er}$$\n",
    "\n",
    "$$\\cos i= \\frac{\\vec{h}.\\hat{k}}{h}$$"
   ]
  },
  {
   "cell_type": "code",
   "execution_count": 69,
   "metadata": {},
   "outputs": [
    {
     "name": "stderr",
     "output_type": "stream",
     "text": [
      "/usr/local/lib/python2.7/dist-packages/ipykernel_launcher.py:2: RuntimeWarning: invalid value encountered in arccos\n",
      "  \n",
      "/usr/local/lib/python2.7/dist-packages/ipykernel_launcher.py:14: RuntimeWarning: invalid value encountered in arccos\n",
      "  \n"
     ]
    }
   ],
   "source": [
    "if np.dot(n,j)>0:\n",
    "    Omega=np.arccos(np.dot(n,i)/mag(n))*180./np.pi\n",
    "else: \n",
    "    Omega=2.*np.pi-np.arccos(np.dot(n,i)/mag(n))*180./np.pi\n",
    "    \n",
    "if np.dot(e,k)>=0:\n",
    "    omega=np.arccos(np.dot(n,e)/(mag(n)*mag(e)))*180./np.pi\n",
    "else: \n",
    "    omega=2.*np.pi-np.arccos(np.dot(n,e)/(mag(n)*mag(e)))*180/np.pi\n",
    "    \n",
    "vr= np.dot(r,v)/mag(r)\n",
    "\n",
    "if vr>=0:\n",
    "    f=np.arccos(np.dot(e,r)/(mag(e)*mag(r)))*180./np.pi\n",
    "else:\n",
    "    f=2*np.pi-np.arccos(np.dot(e,r)/(mag(e)*mag(r)))*180./np.pi\n",
    "    \n",
    "ii=np.arccos(np.dot(h,k)/mag(h))*180./np.pi"
   ]
  },
  {
   "cell_type": "markdown",
   "metadata": {},
   "source": [
    "## EL ARGUMENTO DEL COSENO ES MAYOR QUE 1 ¿QUÉ SE HACE?"
   ]
  },
  {
   "cell_type": "markdown",
   "metadata": {},
   "source": [
    "**2). Satelite en  ́orbita.**  Un sat ́elite en  ́orbita elıptica alrededor de la Tierra tiene un perıodo de\n",
    "15.7430 horas y una distancia al perigeo de 12756.0 km (respecto al centro de la Tierra). En\n",
    "t = 10 horas despues del paso por el perigeo calcule:"
   ]
  },
  {
   "cell_type": "code",
   "execution_count": 70,
   "metadata": {},
   "outputs": [],
   "source": [
    "T=15.7430*60**2\n",
    "G=6.67e-11\n",
    "d=12756000 #Distanica ap perigeo\n",
    "M_t=5.97e24 #Masa tierra\n",
    "t=10*60**2 "
   ]
  },
  {
   "cell_type": "markdown",
   "metadata": {},
   "source": [
    "Por tercera ley de Kepler, $$a=\\Big(\\frac{T^2\\mu}{4\\pi^2}\\Big)^{1/3}$$.\n",
    "\n",
    "Además $d$ la distancia al perigeo, es $d=a-c$.\n",
    "\n",
    "$$e=\\frac{c}{a} $$"
   ]
  },
  {
   "cell_type": "code",
   "execution_count": 71,
   "metadata": {},
   "outputs": [
    {
     "data": {
      "text/plain": [
       "0.5998639287851092"
      ]
     },
     "execution_count": 71,
     "metadata": {},
     "output_type": "execute_result"
    }
   ],
   "source": [
    "a=(T**2*G*M_t/(4.*np.pi**2))**(1./3)\n",
    "c=a-d\n",
    "e=c/a\n",
    "f_0=0 #Anomalía verdadera en t=0\n",
    "p=a*(1-e**2) #Semilatus Rectum\n",
    "r_0=p/(1+np.cos(f_0)) #Distancia radial en t=0\n",
    "\n",
    "e"
   ]
  },
  {
   "cell_type": "markdown",
   "metadata": {},
   "source": [
    "Como a $e=0.59986<0.6627434$, se usa la solución a la ecuación de Kepler:\n",
    "$$E=M+sin(E)$$\n",
    "\n",
    "Donde $M=n(t-t_p)$, es la anmalía media $t_p$ el tiempo de paso por el perigeo y $n=\\frac{2\\pi}{T}$ el movimiento medio "
   ]
  },
  {
   "cell_type": "code",
   "execution_count": 72,
   "metadata": {},
   "outputs": [
    {
     "data": {
      "text/plain": [
       "3.6823147471140802"
      ]
     },
     "execution_count": 72,
     "metadata": {},
     "output_type": "execute_result"
    }
   ],
   "source": [
    "h=(p*mu)**.5\n",
    "\n",
    "n=2*np.pi/T # Movimiento medio\n",
    "t_p=0 #tiempo de paso por el perigeo\n",
    "\n",
    "M=n*(t-t_p) #Anomalía media \n",
    "\n",
    "E=M\n",
    "for i in range(100):\n",
    "    E=M+e*np.sin(E)\n",
    "    \n",
    "E"
   ]
  },
  {
   "cell_type": "markdown",
   "metadata": {},
   "source": [
    "La ecuación converge a $E=3.6823$, así:"
   ]
  },
  {
   "cell_type": "code",
   "execution_count": 73,
   "metadata": {},
   "outputs": [
    {
     "data": {
      "text/plain": [
       "48274.14799431139"
      ]
     },
     "execution_count": 73,
     "metadata": {},
     "output_type": "execute_result"
    }
   ],
   "source": [
    "r_t=a*(1-e*np.cos(E)) #Distancia radial en t=10 horas\n",
    "\n",
    "r_t/1000"
   ]
  },
  {
   "cell_type": "markdown",
   "metadata": {},
   "source": [
    "**a)** La distancia radial luego de diez horas del paso por el perigeo es 48274 km"
   ]
  },
  {
   "cell_type": "markdown",
   "metadata": {},
   "source": [
    "Se sabe que $$\\dot{r}=\\frac{h}{p}e sin f$$\n",
    "y además $$cos f=\\frac{-ecosE}{1-ecosE}$$"
   ]
  },
  {
   "cell_type": "code",
   "execution_count": 74,
   "metadata": {},
   "outputs": [],
   "source": [
    "f=np.arccos(-e*np.cos(E)/(1-e*np.cos(E)))\n",
    "v=h/p*e*np.sin(f) \n",
    " "
   ]
  },
  {
   "cell_type": "markdown",
   "metadata": {},
   "source": [
    "## ESTA NO ES LA COMPONENTE RADIAL ¿CÓMO SE SACA?"
   ]
  },
  {
   "cell_type": "markdown",
   "metadata": {},
   "source": [
    "Si la tasa de cambio de la variable radial $V_r=\\frac{\\vec{r}\\vec{v}}{r}$, es menor que cero, se acerca al periapsis."
   ]
  },
  {
   "cell_type": "markdown",
   "metadata": {},
   "source": [
    "**8) Puntos colineales de Lagrange** [numerico]. Calcule numericamente la ubicacion de los\n",
    "tres puntos colineales de Lagrange para un valor de α = 0,3 resolviendo la ecuacion.\n",
    "\n",
    "$$x-(1-\\alpha)\\frac{x-x_1}{|x-x_1|^3}-\\alpha\\frac{x-x_1}{|x-x_2|^3}=0$$"
   ]
  },
  {
   "cell_type": "code",
   "execution_count": 75,
   "metadata": {},
   "outputs": [],
   "source": [
    "alpha=.3"
   ]
  },
  {
   "cell_type": "code",
   "execution_count": 76,
   "metadata": {},
   "outputs": [],
   "source": [
    "#Supndré las posiciónes de los dos cuerpos como:\n",
    "x1=-1\n",
    "x2=2"
   ]
  },
  {
   "cell_type": "markdown",
   "metadata": {},
   "source": [
    "**Usando el método de cruce de recatas, se encuentran los puntos de lagrange.**"
   ]
  },
  {
   "cell_type": "code",
   "execution_count": 77,
   "metadata": {},
   "outputs": [
    {
     "name": "stdout",
     "output_type": "stream",
     "text": [
      "Se encontraron 3 intersecciones en el rango dado \n",
      "\n",
      "(0.35085644985835357, 0.0)\n",
      "(1.3930943883071873, 0.0)\n",
      "(2.4946801271364145, 0.0)\n"
     ]
    }
   ],
   "source": [
    "rango=[-20,20]\n",
    "def f1(x): \n",
    "    return x-(1-alpha)/abs(x-x1)**3-alpha/abs(x-x2)**3\n",
    "def f2(x):\n",
    "    return 0\n",
    "\n",
    "x_array=np.arange(rango[0],rango[1],.001)\n",
    "y1_array=[f1(i) for i in x_array]\n",
    "y2_array=[f2(i) for i in x_array]\n",
    "\n",
    "ptosx=[]\n",
    "ptosy1=[]\n",
    "ptosy2=[]\n",
    "\n",
    "# Verificamos que haya interseccion\n",
    "for i in range(len(x_array)-1):\n",
    "    if y1_array[i]<y2_array[i] and y1_array[i+1]>=y2_array[i+1] or y1_array[i]>=y2_array[i] and y1_array[i+1]<y2_array[i+1]:\n",
    "    \n",
    "        ptosx.append(x_array[i])\n",
    "        ptosx.append(x_array[i+1])\n",
    "        \n",
    "        ptosy1.append(y1_array[i])\n",
    "        ptosy1.append(y1_array[i+1])\n",
    "    \n",
    "        ptosy2.append(y2_array[i])\n",
    "        ptosy2.append(y2_array[i+1])\n",
    "\n",
    "\n",
    "def cruce_rectas(x1,x2,y11,y12,y21,y22):\n",
    "    \n",
    "    m1=(y12-y11)/(x2-x1)\n",
    "    m2=(y22-y21)/(x2-x1)\n",
    "    \n",
    "    if (m1!=m2):\n",
    "        \n",
    "        b1=-x1*m1+y11\n",
    "        b2=-x1*m2+y21\n",
    "\n",
    "        #Pto de interseccion (a,c)\n",
    "        a=(b2-b1)/(m1-m2)\n",
    "        c=a*m1+b1\n",
    "    \n",
    "        return (a,c)\n",
    "\n",
    "#Se recorre la lista x_array usando la funcion cruce_rectas \n",
    "ptos_crucex=[]\n",
    "ptos_crucey=[]\n",
    "\n",
    "#El indice es por que cruce_rectas entrega dos argumentos\n",
    "for i in range(0,len(ptosx),2):\n",
    "    ptos_crucex.append(cruce_rectas(ptosx[i],ptosx[i+1],ptosy1[i],ptosy1[i+1],ptosy2[i],ptosy2[i+1])[0])\n",
    "    ptos_crucey.append(cruce_rectas(ptosx[i],ptosx[i+1],ptosy1[i],ptosy1[i+1],ptosy2[i],ptosy2[i+1])[1])\n",
    "\n",
    "print(\"Se encontraron %d intersecciones en el rango dado \\n\" %(len(ptos_crucex)))\n",
    "for i in range(len(ptos_crucex)):\n",
    "    print (ptos_crucex[i],ptos_crucey[i])"
   ]
  },
  {
   "cell_type": "markdown",
   "metadata": {},
   "source": [
    "**Los punto de Lagrange encontrados para dos cuerpos con posiciones $x_1=-1$ y $x_2=2$ son:**\n",
    "\n",
    "$$x_{L1}=0.3509$$ $$x_{L2}=1.3931$$ $$x_{L3}=2.4947$$ "
   ]
  },
  {
   "cell_type": "code",
   "execution_count": null,
   "metadata": {},
   "outputs": [],
   "source": []
  }
 ],
 "metadata": {
  "kernelspec": {
   "display_name": "Python 3",
   "language": "python",
   "name": "python3"
  },
  "language_info": {
   "codemirror_mode": {
    "name": "ipython",
    "version": 2
   },
   "file_extension": ".py",
   "mimetype": "text/x-python",
   "name": "python",
   "nbconvert_exporter": "python",
   "pygments_lexer": "ipython2",
   "version": "2.7.15+"
  }
 },
 "nbformat": 4,
 "nbformat_minor": 2
}
